{
  "nbformat": 4,
  "nbformat_minor": 0,
  "metadata": {
    "colab": {
      "provenance": [],
      "authorship_tag": "ABX9TyMBrNlfYIbJ3OkPCdHZD/+g",
      "include_colab_link": true
    },
    "kernelspec": {
      "name": "python3",
      "display_name": "Python 3"
    },
    "language_info": {
      "name": "python"
    }
  },
  "cells": [
    {
      "cell_type": "markdown",
      "metadata": {
        "id": "view-in-github",
        "colab_type": "text"
      },
      "source": [
        "<a href=\"https://colab.research.google.com/github/SachinScaler/May25_Intro_to_ML_NN/blob/main/ML_Linear_Regression_2.ipynb\" target=\"_parent\"><img src=\"https://colab.research.google.com/assets/colab-badge.svg\" alt=\"Open In Colab\"/></a>"
      ]
    },
    {
      "cell_type": "markdown",
      "source": [
        "### Task1: Experiment Weight Analysis\n",
        "Imagine you trained a linear regression model with two features and found the following weights and intercept:\n",
        "- Intercept = 10\n",
        "- Weight for x1 = 2\n",
        "- Weight for x2 = -5\n",
        "\n",
        "1) what would the final linear regression equation would look like?\n",
        "2) Can you create a python function to calculate 'y' for given x values and weights.\n",
        "\n",
        "3) Try these values and calculate the output\n",
        "- initial_x1 = 3\n",
        "- initial_x2 = 4\n",
        "\n",
        "4) Weight Impact analysis:\n",
        "- Add 1 unit to only initial_x1 and see how the output change.\n",
        "- Subtract 1 unit from initial_x1 and see how the output change.\n",
        "- Add 1 unit to initial_x2 and see how the output change.\n",
        "- Subtract 1 unit from initial_x2 and see how the output change.\n",
        "\n",
        "5) Extra: Change weights and repeat experiment to see how weights impact the output. How does magnitude and sign of weight(negative vs positive) impact the output.\n",
        "\n",
        "**Summarize your findings**\n",
        "\n",
        "\n",
        "\n",
        "\n"
      ],
      "metadata": {
        "id": "rwA59qR1UkJL"
      }
    },
    {
      "cell_type": "code",
      "execution_count": null,
      "metadata": {
        "id": "vvvAcBtjUiwv"
      },
      "outputs": [],
      "source": []
    }
  ]
}