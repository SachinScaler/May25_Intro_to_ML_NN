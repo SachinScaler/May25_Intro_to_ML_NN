{
  "nbformat": 4,
  "nbformat_minor": 0,
  "metadata": {
    "colab": {
      "provenance": [],
      "authorship_tag": "ABX9TyPI6ygkdRxgg567eb3UxU42",
      "include_colab_link": true
    },
    "kernelspec": {
      "name": "python3",
      "display_name": "Python 3"
    },
    "language_info": {
      "name": "python"
    }
  },
  "cells": [
    {
      "cell_type": "markdown",
      "metadata": {
        "id": "view-in-github",
        "colab_type": "text"
      },
      "source": [
        "<a href=\"https://colab.research.google.com/github/SachinScaler/May25_Intro_to_ML_NN/blob/main/ML_Linear_Regression_2.ipynb\" target=\"_parent\"><img src=\"https://colab.research.google.com/assets/colab-badge.svg\" alt=\"Open In Colab\"/></a>"
      ]
    },
    {
      "cell_type": "markdown",
      "source": [
        "### Task1: Experiment Weight Analysis\n",
        "Imagine you trained a linear regression model with two features and found the following weights and intercept:\n",
        "- Intercept = 10\n",
        "- Weight for x1 = 2\n",
        "- Weight for x2 = -5\n",
        "\n",
        "1) what would the final linear regression equation would look like?\n",
        "2) Can you create a python function to calculate 'y' for given x values and weights.\n",
        "\n",
        "3) Try these values and calculate the output\n",
        "- initial_x1 = 3\n",
        "- initial_x2 = 4\n",
        "\n",
        "4) Weight Impact analysis:\n",
        "- Add 1 unit to only initial_x1 and see how the output change.\n",
        "- Subtract 1 unit from initial_x1 and see how the output change.\n",
        "- Add 1 unit to initial_x2 and see how the output change.\n",
        "- Subtract 1 unit from initial_x2 and see how the output change.\n",
        "\n",
        "5) Extra: Change weights and repeat experiment to see how weights impact the output. How does magnitude and sign of weight(negative vs positive) impact the output.\n",
        "\n",
        "**Summarize your findings**\n",
        "\n",
        "\n",
        "\n",
        "\n"
      ],
      "metadata": {
        "id": "rwA59qR1UkJL"
      }
    },
    {
      "cell_type": "markdown",
      "source": [
        "### Task 2: Calculate a Partial Derivative\n",
        "\n",
        "**Given Function:**\n",
        "Consider the following multivariable function:\n",
        "\n",
        "$f(x, y) = (a \\cdot x + b \\cdot y + z)^2$\n",
        "\n",
        "where $a$ and $b$ are constants.\n",
        "\n",
        "**Instructions:**\n",
        "\n",
        "1.  **Calculate the Partial Derivative:**\n",
        "    Determine the partial derivative of the function $f(x, y, z)$ with respect to $x$ $y$ and $z$ i.e.  $\\frac{\\partial}{\\partial x} f(x, y, z)$.\n",
        "    $\\frac{\\partial}{\\partial y} f(x, y, z)$.\n",
        "      $\\frac{\\partial}{\\partial z} f(x, y, z)$.\n",
        "\n",
        "\n",
        "Note: if possible, share step-by-step derivation of your solution on whatsapp. Make sure to explicitly state when you apply rules like the chain rule and how you treat other variables (e.g., $y$, $a$, $b$) as constants during the differentiation process.\n"
      ],
      "metadata": {
        "id": "-VRIUamSBWCu"
      }
    },
    {
      "cell_type": "code",
      "execution_count": null,
      "metadata": {
        "id": "vvvAcBtjUiwv"
      },
      "outputs": [],
      "source": []
    }
  ]
}